{
 "cells": [
  {
   "cell_type": "code",
   "execution_count": 199,
   "metadata": {},
   "outputs": [],
   "source": [
    "import lyricsgenius as genius\n",
    "import pandas as pd\n",
    "import numpy as np\n",
    "\n",
    "from wordcloud import WordCloud\n",
    "import matplotlib.pyplot as plt\n",
    "from helpme import search_data, clean_lyrics\n",
    "plt.style.use('seaborn')\n",
    "\n",
    "\n"
   ]
  },
  {
   "cell_type": "code",
   "execution_count": 200,
   "metadata": {},
   "outputs": [],
   "source": [
    "from sklearn.feature_extraction.text import CountVectorizer\n",
    "import nltk \n",
    "from nltk.sentiment import SentimentIntensityAnalyzer\n",
    "from nltk import word_tokenize\n",
    "import nltk.data"
   ]
  },
  {
   "cell_type": "code",
   "execution_count": 201,
   "metadata": {},
   "outputs": [
    {
     "name": "stdout",
     "output_type": "stream",
     "text": [
      "Searching for \"Kendrick Lamar\" by BLOOD....\n",
      "Done.\n",
      "Searching for \"Kendrick Lamar\" by DNA....\n",
      "Done.\n",
      "Searching for \"Kendrick Lamar\" by YAH....\n",
      "Done.\n",
      "Searching for \"Kendrick Lamar\" by ELEMENT....\n",
      "Done.\n",
      "Searching for \"Kendrick Lamar\" by LOYALTY....\n",
      "Done.\n",
      "Searching for \"Kendrick Lamar\" by FEEL....\n",
      "Done.\n",
      "Searching for \"Kendrick Lamar\" by PRIDE....\n",
      "Done.\n",
      "Searching for \"Kendrick Lamar\" by HUMBLE....\n",
      "Done.\n",
      "Searching for \"Kendrick Lamar\" by LUST....\n",
      "Done.\n",
      "Searching for \"Kendrick Lamar\" by LOVE....\n",
      "Done.\n",
      "Searching for \"Kendrick Lamar\" by XXX....\n",
      "Done.\n",
      "Searching for \"Kendrick Lamar\" by FEAR....\n",
      "Done.\n",
      "Searching for \"Kendrick Lamar\" by GOD....\n",
      "Done.\n",
      "Searching for \"Kendrick Lamar\" by DUCKWORTH....\n",
      "Done.\n"
     ]
    }
   ],
   "source": [
    "\n",
    "import sys \n",
    "access_token = 'Kh-N_DhpzAlBgFwmlVwMBerkWYhs1ffuBz0Y9iIRzfOFQavRGQww3jMQm73eC3Si'\n",
    "artist = 'Kendrick Lamar'\n",
    "album = 'DAMN.'\n",
    "\n",
    "SONGLIST= ['BLOOD.','DNA.', 'YAH.', 'ELEMENT.', 'LOYALTY.', 'FEEL.', 'PRIDE.', 'HUMBLE.', 'LUST.', 'LOVE.', 'XXX.', 'FEAR.', 'GOD.', 'DUCKWORTH.']\n",
    "\n",
    "myfile = 'file.txt'\n",
    "if os.path.isfile(myfile):\n",
    "    os.remove(myfile)\n",
    "\n",
    "\n",
    "api = genius.Genius(access_token)\n",
    "length = len(SONGLIST)\n",
    "\n",
    "for length in range(length):\n",
    "    artist2 = api.search_song(artist, SONGLIST[length])\n",
    "    f = open(\"lyrics/{}lyrics.txt\".format(SONGLIST[length]), \"w\")\n",
    "    print(artist2.lyrics, file=f)\n",
    "    f.close()   \n"
   ]
  },
  {
   "cell_type": "markdown",
   "metadata": {},
   "source": []
  }
 ],
 "metadata": {
  "interpreter": {
   "hash": "f5f61564bdc7f53415b2b505550c56a4073778d531a25cde85da04c84ebb0b38"
  },
  "kernelspec": {
   "display_name": "Python 3.9.7 64-bit ('base': conda)",
   "language": "python",
   "name": "python3"
  },
  "language_info": {
   "codemirror_mode": {
    "name": "ipython",
    "version": 3
   },
   "file_extension": ".py",
   "mimetype": "text/x-python",
   "name": "python",
   "nbconvert_exporter": "python",
   "pygments_lexer": "ipython3",
   "version": "3.9.7"
  },
  "orig_nbformat": 4
 },
 "nbformat": 4,
 "nbformat_minor": 2
}
